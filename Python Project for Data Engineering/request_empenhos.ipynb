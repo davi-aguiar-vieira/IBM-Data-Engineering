{
 "cells": [
  {
   "cell_type": "markdown",
   "metadata": {},
   "source": [
    "## Jupyter Notebook to fetch commitment data from an API of certain contracts"
   ]
  },
  {
   "cell_type": "code",
   "execution_count": 3,
   "metadata": {},
   "outputs": [],
   "source": [
    "import requests\n",
    "import pandas as pd\n",
    "import json"
   ]
  },
  {
   "cell_type": "markdown",
   "metadata": {},
   "source": [
    "### Makes the request for commitments based on the contract IDs"
   ]
  },
  {
   "cell_type": "code",
   "execution_count": 4,
   "metadata": {},
   "outputs": [],
   "source": [
    "BASE_URL = \"https://contratos.comprasnet.gov.br/api\"\n",
    "\n",
    "def get_contratos(contract_id):\n",
    "    endpoint = f\"/contrato/{contract_id}/empenhos\"\n",
    "    url = f\"{BASE_URL}{endpoint}\"\n",
    "    response = requests.get(url)\n",
    "    \n",
    "    # Verificar o status da resposta\n",
    "    if response.status_code != 200:\n",
    "        raise Exception(f\"Erro na requisição: {response.status_code}\")\n",
    "    \n",
    "    # Verificar o conteúdo da resposta\n",
    "    if not response.text:\n",
    "        raise Exception(\"Resposta vazia\")\n",
    "    \n",
    "    try:\n",
    "        data = response.json()\n",
    "    except ValueError as e:\n",
    "        raise Exception(f\"Erro ao decodificar JSON: {e}\")\n",
    "    \n",
    "    return data\n",
    "\n",
    "# Ler o arquivo contratos.csv e extrair os IDs dos contratos\n",
    "contratos_df = pd.read_csv('contratos.csv')\n",
    "contract_ids = contratos_df['id'].tolist()\n",
    "\n",
    "# Inicializar uma lista para armazenar todos os empenhos\n",
    "all_empenhos = []\n",
    "\n",
    "# Fazer requisições para cada ID de contrato\n",
    "for contract_id in contract_ids:\n",
    "    try:\n",
    "        empenhos = get_contratos(contract_id)\n",
    "        all_empenhos.extend(empenhos)\n",
    "    except Exception as e:\n",
    "        print(f\"Erro ao processar contrato {contract_id}: {e}\")\n",
    "\n",
    "# Salvar a lista de empenhos em um arquivo JSON\n",
    "with open('empenhos.json', 'w') as f:\n",
    "    json.dump(all_empenhos, f, indent=4)"
   ]
  },
  {
   "cell_type": "markdown",
   "metadata": {},
   "source": [
    "### Transforms and nests the json data and saves it to a csv file"
   ]
  },
  {
   "cell_type": "code",
   "execution_count": 7,
   "metadata": {},
   "outputs": [],
   "source": [
    "# Função para achatar dicionários aninhados\n",
    "def flatten_dict(d, parent_key='', sep='_'):\n",
    "    items = []\n",
    "    for k, v in d.items():\n",
    "        new_key = f\"{parent_key}{sep}{k}\" if parent_key else k\n",
    "        if isinstance(v, dict):\n",
    "            items.extend(flatten_dict(v, new_key, sep=sep).items())\n",
    "        else:\n",
    "            items.append((new_key, v))\n",
    "    return dict(items)\n",
    "\n",
    "# Ler o arquivo JSON\n",
    "with open('empenhos.json', 'r') as f:\n",
    "    data = json.load(f)\n",
    "\n",
    "# Achatar cada dicionário na lista\n",
    "flattened_data = [flatten_dict(item) for item in data]\n",
    "\n",
    "# Converter a lista de dicionários achatados em um DataFrame\n",
    "df = pd.DataFrame(flattened_data)\n",
    "\n",
    "# Salvar o DataFrame em um arquivo CSV\n",
    "df.to_csv('empenhos.csv', index=False)"
   ]
  }
 ],
 "metadata": {
  "kernelspec": {
   "display_name": "Python 3",
   "language": "python",
   "name": "python3"
  },
  "language_info": {
   "codemirror_mode": {
    "name": "ipython",
    "version": 3
   },
   "file_extension": ".py",
   "mimetype": "text/x-python",
   "name": "python",
   "nbconvert_exporter": "python",
   "pygments_lexer": "ipython3",
   "version": "3.12.6"
  }
 },
 "nbformat": 4,
 "nbformat_minor": 2
}
