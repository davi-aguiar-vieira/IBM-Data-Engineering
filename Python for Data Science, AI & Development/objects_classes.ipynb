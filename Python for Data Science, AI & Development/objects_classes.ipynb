{
 "cells": [
  {
   "cell_type": "markdown",
   "metadata": {},
   "source": [
    "## **Hands-On Lab: Objects and Classes**"
   ]
  },
  {
   "cell_type": "markdown",
   "metadata": {},
   "source": [
    "#### Task-1. You are tasked with creating a Python program to represent vehicles using a class. Each car should have attributes for maximum speed and mileage."
   ]
  },
  {
   "cell_type": "code",
   "execution_count": 1,
   "metadata": {},
   "outputs": [],
   "source": [
    "class Car(object):\n",
    "    def __init__(self, maximum, mileage):\n",
    "        self.maximum = maximum\n",
    "        self.mileage = mileage"
   ]
  },
  {
   "cell_type": "markdown",
   "metadata": {},
   "source": [
    "#### Task-2. Update the class with the default color for all vehicles,\" white\"."
   ]
  },
  {
   "cell_type": "code",
   "execution_count": 2,
   "metadata": {},
   "outputs": [],
   "source": [
    "class Car(object):\n",
    "    def __init__(self, maximum, mileage, color='white'):\n",
    "        self.maximum = maximum\n",
    "        self.mileage = mileage\n",
    "        self.color = color"
   ]
  },
  {
   "cell_type": "markdown",
   "metadata": {},
   "source": [
    "#### Task-3. Additionally, you need to create methods in the Vehicle class to assign seating capacity to a vehicle."
   ]
  },
  {
   "cell_type": "code",
   "execution_count": null,
   "metadata": {},
   "outputs": [],
   "source": [
    "class Car(object):\n",
    "    def __init__(self, maximum, mileage, color='white'):\n",
    "        self.maximum = maximum\n",
    "        self.mileage = mileage\n",
    "        self.color = color\n",
    "\n",
    "    def assign_seating_capacity(self, seating_capacity):\n",
    "        self.seating_capacity = seating_capacity"
   ]
  },
  {
   "cell_type": "markdown",
   "metadata": {},
   "source": [
    "#### Task-4. Create a method to display all the properties of an object of the class."
   ]
  },
  {
   "cell_type": "code",
   "execution_count": 3,
   "metadata": {},
   "outputs": [
    {
     "name": "stdout",
     "output_type": "stream",
     "text": [
      "Maximum speed: 200 mph\n",
      "Mileage: 1000 miles\n",
      "Color: white\n",
      "Seating capacity: 5\n"
     ]
    }
   ],
   "source": [
    "class Car(object):\n",
    "    def __init__(self, maximum, mileage, color='white'):\n",
    "        self.maximum = maximum\n",
    "        self.mileage = mileage\n",
    "        self.color = color\n",
    "\n",
    "    def assign_seating_capacity(self, seating_capacity):\n",
    "        self.seating_capacity = seating_capacity\n",
    "\n",
    "    def  display_details(self):\n",
    "        print(f\"Maximum speed: {self.maximum} mph\")\n",
    "        print(f\"Mileage: {self.mileage} miles\")\n",
    "        print(f\"Color: {self.color}\")\n",
    "        print(f\"Seating capacity: {self.seating_capacity}\")\n",
    "\n",
    "car1 = Car(200, 1000)\n",
    "car1.assign_seating_capacity(5)\n",
    "car1.display_details() "
   ]
  },
  {
   "cell_type": "code",
   "execution_count": 4,
   "metadata": {},
   "outputs": [
    {
     "name": "stdout",
     "output_type": "stream",
     "text": [
      "Maximum speed: 250 mph\n",
      "Mileage: 30000 miles\n",
      "Color: red\n",
      "Seating capacity: 2\n"
     ]
    }
   ],
   "source": [
    "car2 = Car(250, 30000, 'red')\n",
    "car2.assign_seating_capacity(2)\n",
    "car2.display_details()"
   ]
  }
 ],
 "metadata": {
  "kernelspec": {
   "display_name": "Python 3",
   "language": "python",
   "name": "python3"
  },
  "language_info": {
   "codemirror_mode": {
    "name": "ipython",
    "version": 3
   },
   "file_extension": ".py",
   "mimetype": "text/x-python",
   "name": "python",
   "nbconvert_exporter": "python",
   "pygments_lexer": "ipython3",
   "version": "3.12.6"
  }
 },
 "nbformat": 4,
 "nbformat_minor": 2
}
